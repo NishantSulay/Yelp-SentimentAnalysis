{
 "cells": [
  {
   "cell_type": "markdown",
   "id": "c868fb86-a098-4b53-b694-0a6c0b716ceb",
   "metadata": {},
   "source": [
    "# Yelp - Sentiment analysis and business prediction "
   ]
  },
  {
   "cell_type": "markdown",
   "id": "a248df89-97bf-4ac6-9e2d-58f1bd9cda52",
   "metadata": {},
   "source": [
    "# Context\n",
    "(source: https://www.kaggle.com/datasets/yelp-dataset/yelp-dataset/version/6) - This dataset is a subset of Yelp's businesses, reviews, and user data. It was originally put together for the Yelp Dataset Challenge which is a chance for students to conduct research or analysis on Yelp's data and share their discoveries. In the dataset you'll find information about businesses across 11 metropolitan areas in four countries"
   ]
  },
  {
   "cell_type": "markdown",
   "id": "3c4fe5c0-d4d9-4820-98e3-f6bb20c0292a",
   "metadata": {},
   "source": [
    "# Objective"
   ]
  },
  {
   "cell_type": "markdown",
   "id": "47057e64-0294-472f-8060-cc90261ca3b1",
   "metadata": {},
   "source": [
    "# Import "
   ]
  },
  {
   "cell_type": "code",
   "execution_count": 1,
   "id": "6bf630c5-30d0-411e-b4a2-538f6bdf6d8b",
   "metadata": {},
   "outputs": [],
   "source": [
    "import pandas as pd\n",
    "import numpy as np\n",
    "import seaborn as sns\n",
    "import matplotlib.pyplot as plt"
   ]
  },
  {
   "cell_type": "code",
   "execution_count": 2,
   "id": "5274e3a5-1d1e-4212-bb0f-57509c0ddb06",
   "metadata": {},
   "outputs": [
    {
     "name": "stdout",
     "output_type": "stream",
     "text": [
      "CPU times: user 37.9 s, sys: 12.6 s, total: 50.6 s\n",
      "Wall time: 1min 22s\n"
     ]
    }
   ],
   "source": [
    "%%time \n",
    "business = pd.read_csv(\"./yelp_business.csv\", chunksize = 1000000)\n",
    "business_giant = pd.concat(business)\n",
    "\n",
    "review = pd.read_csv(\"./yelp_review.csv\", chunksize = 1000000)\n",
    "review_giant = pd.concat(review)\n",
    "\n",
    "check_in = pd.read_csv(\"./yelp_checkin.csv\", chunksize = 1000000)\n",
    "check_in_giant = pd.concat(check_in)"
   ]
  },
  {
   "cell_type": "code",
   "execution_count": 3,
   "id": "ab010d51-2786-4568-92b5-55bdb427749c",
   "metadata": {},
   "outputs": [
    {
     "name": "stdout",
     "output_type": "stream",
     "text": [
      "<class 'pandas.core.frame.DataFrame'>\n",
      "RangeIndex: 174567 entries, 0 to 174566\n",
      "Data columns (total 13 columns):\n",
      " #   Column        Non-Null Count   Dtype  \n",
      "---  ------        --------------   -----  \n",
      " 0   business_id   174567 non-null  object \n",
      " 1   name          174567 non-null  object \n",
      " 2   neighborhood  68015 non-null   object \n",
      " 3   address       174567 non-null  object \n",
      " 4   city          174566 non-null  object \n",
      " 5   state         174566 non-null  object \n",
      " 6   postal_code   173944 non-null  object \n",
      " 7   latitude      174566 non-null  float64\n",
      " 8   longitude     174566 non-null  float64\n",
      " 9   stars         174567 non-null  float64\n",
      " 10  review_count  174567 non-null  int64  \n",
      " 11  is_open       174567 non-null  int64  \n",
      " 12  categories    174567 non-null  object \n",
      "dtypes: float64(3), int64(2), object(8)\n",
      "memory usage: 17.3+ MB\n"
     ]
    },
    {
     "data": {
      "text/html": [
       "<div>\n",
       "<style scoped>\n",
       "    .dataframe tbody tr th:only-of-type {\n",
       "        vertical-align: middle;\n",
       "    }\n",
       "\n",
       "    .dataframe tbody tr th {\n",
       "        vertical-align: top;\n",
       "    }\n",
       "\n",
       "    .dataframe thead th {\n",
       "        text-align: right;\n",
       "    }\n",
       "</style>\n",
       "<table border=\"1\" class=\"dataframe\">\n",
       "  <thead>\n",
       "    <tr style=\"text-align: right;\">\n",
       "      <th></th>\n",
       "      <th>business_id</th>\n",
       "      <th>name</th>\n",
       "      <th>neighborhood</th>\n",
       "      <th>address</th>\n",
       "      <th>city</th>\n",
       "      <th>state</th>\n",
       "      <th>postal_code</th>\n",
       "      <th>latitude</th>\n",
       "      <th>longitude</th>\n",
       "      <th>stars</th>\n",
       "      <th>review_count</th>\n",
       "      <th>is_open</th>\n",
       "      <th>categories</th>\n",
       "    </tr>\n",
       "  </thead>\n",
       "  <tbody>\n",
       "    <tr>\n",
       "      <th>0</th>\n",
       "      <td>FYWN1wneV18bWNgQjJ2GNg</td>\n",
       "      <td>\"Dental by Design\"</td>\n",
       "      <td>NaN</td>\n",
       "      <td>\"4855 E Warner Rd, Ste B9\"</td>\n",
       "      <td>Ahwatukee</td>\n",
       "      <td>AZ</td>\n",
       "      <td>85044</td>\n",
       "      <td>33.330690</td>\n",
       "      <td>-111.978599</td>\n",
       "      <td>4.0</td>\n",
       "      <td>22</td>\n",
       "      <td>1</td>\n",
       "      <td>Dentists;General Dentistry;Health &amp; Medical;Or...</td>\n",
       "    </tr>\n",
       "    <tr>\n",
       "      <th>1</th>\n",
       "      <td>He-G7vWjzVUysIKrfNbPUQ</td>\n",
       "      <td>\"Stephen Szabo Salon\"</td>\n",
       "      <td>NaN</td>\n",
       "      <td>\"3101 Washington Rd\"</td>\n",
       "      <td>McMurray</td>\n",
       "      <td>PA</td>\n",
       "      <td>15317</td>\n",
       "      <td>40.291685</td>\n",
       "      <td>-80.104900</td>\n",
       "      <td>3.0</td>\n",
       "      <td>11</td>\n",
       "      <td>1</td>\n",
       "      <td>Hair Stylists;Hair Salons;Men's Hair Salons;Bl...</td>\n",
       "    </tr>\n",
       "    <tr>\n",
       "      <th>2</th>\n",
       "      <td>KQPW8lFf1y5BT2MxiSZ3QA</td>\n",
       "      <td>\"Western Motor Vehicle\"</td>\n",
       "      <td>NaN</td>\n",
       "      <td>\"6025 N 27th Ave, Ste 1\"</td>\n",
       "      <td>Phoenix</td>\n",
       "      <td>AZ</td>\n",
       "      <td>85017</td>\n",
       "      <td>33.524903</td>\n",
       "      <td>-112.115310</td>\n",
       "      <td>1.5</td>\n",
       "      <td>18</td>\n",
       "      <td>1</td>\n",
       "      <td>Departments of Motor Vehicles;Public Services ...</td>\n",
       "    </tr>\n",
       "    <tr>\n",
       "      <th>3</th>\n",
       "      <td>8DShNS-LuFqpEWIp0HxijA</td>\n",
       "      <td>\"Sports Authority\"</td>\n",
       "      <td>NaN</td>\n",
       "      <td>\"5000 Arizona Mills Cr, Ste 435\"</td>\n",
       "      <td>Tempe</td>\n",
       "      <td>AZ</td>\n",
       "      <td>85282</td>\n",
       "      <td>33.383147</td>\n",
       "      <td>-111.964725</td>\n",
       "      <td>3.0</td>\n",
       "      <td>9</td>\n",
       "      <td>0</td>\n",
       "      <td>Sporting Goods;Shopping</td>\n",
       "    </tr>\n",
       "    <tr>\n",
       "      <th>4</th>\n",
       "      <td>PfOCPjBrlQAnz__NXj9h_w</td>\n",
       "      <td>\"Brick House Tavern + Tap\"</td>\n",
       "      <td>NaN</td>\n",
       "      <td>\"581 Howe Ave\"</td>\n",
       "      <td>Cuyahoga Falls</td>\n",
       "      <td>OH</td>\n",
       "      <td>44221</td>\n",
       "      <td>41.119535</td>\n",
       "      <td>-81.475690</td>\n",
       "      <td>3.5</td>\n",
       "      <td>116</td>\n",
       "      <td>1</td>\n",
       "      <td>American (New);Nightlife;Bars;Sandwiches;Ameri...</td>\n",
       "    </tr>\n",
       "  </tbody>\n",
       "</table>\n",
       "</div>"
      ],
      "text/plain": [
       "              business_id                        name neighborhood  \\\n",
       "0  FYWN1wneV18bWNgQjJ2GNg          \"Dental by Design\"          NaN   \n",
       "1  He-G7vWjzVUysIKrfNbPUQ       \"Stephen Szabo Salon\"          NaN   \n",
       "2  KQPW8lFf1y5BT2MxiSZ3QA     \"Western Motor Vehicle\"          NaN   \n",
       "3  8DShNS-LuFqpEWIp0HxijA          \"Sports Authority\"          NaN   \n",
       "4  PfOCPjBrlQAnz__NXj9h_w  \"Brick House Tavern + Tap\"          NaN   \n",
       "\n",
       "                            address            city state postal_code  \\\n",
       "0        \"4855 E Warner Rd, Ste B9\"       Ahwatukee    AZ       85044   \n",
       "1              \"3101 Washington Rd\"        McMurray    PA       15317   \n",
       "2          \"6025 N 27th Ave, Ste 1\"         Phoenix    AZ       85017   \n",
       "3  \"5000 Arizona Mills Cr, Ste 435\"           Tempe    AZ       85282   \n",
       "4                    \"581 Howe Ave\"  Cuyahoga Falls    OH       44221   \n",
       "\n",
       "    latitude   longitude  stars  review_count  is_open  \\\n",
       "0  33.330690 -111.978599    4.0            22        1   \n",
       "1  40.291685  -80.104900    3.0            11        1   \n",
       "2  33.524903 -112.115310    1.5            18        1   \n",
       "3  33.383147 -111.964725    3.0             9        0   \n",
       "4  41.119535  -81.475690    3.5           116        1   \n",
       "\n",
       "                                          categories  \n",
       "0  Dentists;General Dentistry;Health & Medical;Or...  \n",
       "1  Hair Stylists;Hair Salons;Men's Hair Salons;Bl...  \n",
       "2  Departments of Motor Vehicles;Public Services ...  \n",
       "3                            Sporting Goods;Shopping  \n",
       "4  American (New);Nightlife;Bars;Sandwiches;Ameri...  "
      ]
     },
     "execution_count": 3,
     "metadata": {},
     "output_type": "execute_result"
    }
   ],
   "source": [
    "business_giant.info()\n",
    "business_giant.head()"
   ]
  },
  {
   "cell_type": "code",
   "execution_count": 4,
   "id": "c53c0eae-d0b4-419a-a29c-e2d772e9f080",
   "metadata": {},
   "outputs": [
    {
     "name": "stdout",
     "output_type": "stream",
     "text": [
      "<class 'pandas.core.frame.DataFrame'>\n",
      "RangeIndex: 5261668 entries, 0 to 5261667\n",
      "Data columns (total 9 columns):\n",
      " #   Column       Dtype \n",
      "---  ------       ----- \n",
      " 0   review_id    object\n",
      " 1   user_id      object\n",
      " 2   business_id  object\n",
      " 3   stars        int64 \n",
      " 4   date         object\n",
      " 5   text         object\n",
      " 6   useful       int64 \n",
      " 7   funny        int64 \n",
      " 8   cool         int64 \n",
      "dtypes: int64(4), object(5)\n",
      "memory usage: 361.3+ MB\n"
     ]
    },
    {
     "data": {
      "text/html": [
       "<div>\n",
       "<style scoped>\n",
       "    .dataframe tbody tr th:only-of-type {\n",
       "        vertical-align: middle;\n",
       "    }\n",
       "\n",
       "    .dataframe tbody tr th {\n",
       "        vertical-align: top;\n",
       "    }\n",
       "\n",
       "    .dataframe thead th {\n",
       "        text-align: right;\n",
       "    }\n",
       "</style>\n",
       "<table border=\"1\" class=\"dataframe\">\n",
       "  <thead>\n",
       "    <tr style=\"text-align: right;\">\n",
       "      <th></th>\n",
       "      <th>review_id</th>\n",
       "      <th>user_id</th>\n",
       "      <th>business_id</th>\n",
       "      <th>stars</th>\n",
       "      <th>date</th>\n",
       "      <th>text</th>\n",
       "      <th>useful</th>\n",
       "      <th>funny</th>\n",
       "      <th>cool</th>\n",
       "    </tr>\n",
       "  </thead>\n",
       "  <tbody>\n",
       "    <tr>\n",
       "      <th>0</th>\n",
       "      <td>vkVSCC7xljjrAI4UGfnKEQ</td>\n",
       "      <td>bv2nCi5Qv5vroFiqKGopiw</td>\n",
       "      <td>AEx2SYEUJmTxVVB18LlCwA</td>\n",
       "      <td>5</td>\n",
       "      <td>2016-05-28</td>\n",
       "      <td>Super simple place but amazing nonetheless. It...</td>\n",
       "      <td>0</td>\n",
       "      <td>0</td>\n",
       "      <td>0</td>\n",
       "    </tr>\n",
       "    <tr>\n",
       "      <th>1</th>\n",
       "      <td>n6QzIUObkYshz4dz2QRJTw</td>\n",
       "      <td>bv2nCi5Qv5vroFiqKGopiw</td>\n",
       "      <td>VR6GpWIda3SfvPC-lg9H3w</td>\n",
       "      <td>5</td>\n",
       "      <td>2016-05-28</td>\n",
       "      <td>Small unassuming place that changes their menu...</td>\n",
       "      <td>0</td>\n",
       "      <td>0</td>\n",
       "      <td>0</td>\n",
       "    </tr>\n",
       "    <tr>\n",
       "      <th>2</th>\n",
       "      <td>MV3CcKScW05u5LVfF6ok0g</td>\n",
       "      <td>bv2nCi5Qv5vroFiqKGopiw</td>\n",
       "      <td>CKC0-MOWMqoeWf6s-szl8g</td>\n",
       "      <td>5</td>\n",
       "      <td>2016-05-28</td>\n",
       "      <td>Lester's is located in a beautiful neighborhoo...</td>\n",
       "      <td>0</td>\n",
       "      <td>0</td>\n",
       "      <td>0</td>\n",
       "    </tr>\n",
       "    <tr>\n",
       "      <th>3</th>\n",
       "      <td>IXvOzsEMYtiJI0CARmj77Q</td>\n",
       "      <td>bv2nCi5Qv5vroFiqKGopiw</td>\n",
       "      <td>ACFtxLv8pGrrxMm6EgjreA</td>\n",
       "      <td>4</td>\n",
       "      <td>2016-05-28</td>\n",
       "      <td>Love coming here. Yes the place always needs t...</td>\n",
       "      <td>0</td>\n",
       "      <td>0</td>\n",
       "      <td>0</td>\n",
       "    </tr>\n",
       "    <tr>\n",
       "      <th>4</th>\n",
       "      <td>L_9BTb55X0GDtThi6GlZ6w</td>\n",
       "      <td>bv2nCi5Qv5vroFiqKGopiw</td>\n",
       "      <td>s2I_Ni76bjJNK9yG60iD-Q</td>\n",
       "      <td>4</td>\n",
       "      <td>2016-05-28</td>\n",
       "      <td>Had their chocolate almond croissant and it wa...</td>\n",
       "      <td>0</td>\n",
       "      <td>0</td>\n",
       "      <td>0</td>\n",
       "    </tr>\n",
       "  </tbody>\n",
       "</table>\n",
       "</div>"
      ],
      "text/plain": [
       "                review_id                 user_id             business_id  \\\n",
       "0  vkVSCC7xljjrAI4UGfnKEQ  bv2nCi5Qv5vroFiqKGopiw  AEx2SYEUJmTxVVB18LlCwA   \n",
       "1  n6QzIUObkYshz4dz2QRJTw  bv2nCi5Qv5vroFiqKGopiw  VR6GpWIda3SfvPC-lg9H3w   \n",
       "2  MV3CcKScW05u5LVfF6ok0g  bv2nCi5Qv5vroFiqKGopiw  CKC0-MOWMqoeWf6s-szl8g   \n",
       "3  IXvOzsEMYtiJI0CARmj77Q  bv2nCi5Qv5vroFiqKGopiw  ACFtxLv8pGrrxMm6EgjreA   \n",
       "4  L_9BTb55X0GDtThi6GlZ6w  bv2nCi5Qv5vroFiqKGopiw  s2I_Ni76bjJNK9yG60iD-Q   \n",
       "\n",
       "   stars        date                                               text  \\\n",
       "0      5  2016-05-28  Super simple place but amazing nonetheless. It...   \n",
       "1      5  2016-05-28  Small unassuming place that changes their menu...   \n",
       "2      5  2016-05-28  Lester's is located in a beautiful neighborhoo...   \n",
       "3      4  2016-05-28  Love coming here. Yes the place always needs t...   \n",
       "4      4  2016-05-28  Had their chocolate almond croissant and it wa...   \n",
       "\n",
       "   useful  funny  cool  \n",
       "0       0      0     0  \n",
       "1       0      0     0  \n",
       "2       0      0     0  \n",
       "3       0      0     0  \n",
       "4       0      0     0  "
      ]
     },
     "execution_count": 4,
     "metadata": {},
     "output_type": "execute_result"
    }
   ],
   "source": [
    "review_giant.info()\n",
    "review_giant.head()"
   ]
  },
  {
   "cell_type": "code",
   "execution_count": 5,
   "id": "82143e48-762f-42da-bbeb-366cf0b16615",
   "metadata": {},
   "outputs": [
    {
     "name": "stdout",
     "output_type": "stream",
     "text": [
      "<class 'pandas.core.frame.DataFrame'>\n",
      "RangeIndex: 3911218 entries, 0 to 3911217\n",
      "Data columns (total 4 columns):\n",
      " #   Column       Dtype \n",
      "---  ------       ----- \n",
      " 0   business_id  object\n",
      " 1   weekday      object\n",
      " 2   hour         object\n",
      " 3   checkins     int64 \n",
      "dtypes: int64(1), object(3)\n",
      "memory usage: 119.4+ MB\n"
     ]
    },
    {
     "data": {
      "text/html": [
       "<div>\n",
       "<style scoped>\n",
       "    .dataframe tbody tr th:only-of-type {\n",
       "        vertical-align: middle;\n",
       "    }\n",
       "\n",
       "    .dataframe tbody tr th {\n",
       "        vertical-align: top;\n",
       "    }\n",
       "\n",
       "    .dataframe thead th {\n",
       "        text-align: right;\n",
       "    }\n",
       "</style>\n",
       "<table border=\"1\" class=\"dataframe\">\n",
       "  <thead>\n",
       "    <tr style=\"text-align: right;\">\n",
       "      <th></th>\n",
       "      <th>business_id</th>\n",
       "      <th>weekday</th>\n",
       "      <th>hour</th>\n",
       "      <th>checkins</th>\n",
       "    </tr>\n",
       "  </thead>\n",
       "  <tbody>\n",
       "    <tr>\n",
       "      <th>0</th>\n",
       "      <td>3Mc-LxcqeguOXOVT_2ZtCg</td>\n",
       "      <td>Tue</td>\n",
       "      <td>0:00</td>\n",
       "      <td>12</td>\n",
       "    </tr>\n",
       "    <tr>\n",
       "      <th>1</th>\n",
       "      <td>SVFx6_epO22bZTZnKwlX7g</td>\n",
       "      <td>Wed</td>\n",
       "      <td>0:00</td>\n",
       "      <td>4</td>\n",
       "    </tr>\n",
       "    <tr>\n",
       "      <th>2</th>\n",
       "      <td>vW9aLivd4-IorAfStzsHww</td>\n",
       "      <td>Tue</td>\n",
       "      <td>14:00</td>\n",
       "      <td>1</td>\n",
       "    </tr>\n",
       "    <tr>\n",
       "      <th>3</th>\n",
       "      <td>tEzxhauTQddACyqdJ0OPEQ</td>\n",
       "      <td>Fri</td>\n",
       "      <td>19:00</td>\n",
       "      <td>1</td>\n",
       "    </tr>\n",
       "    <tr>\n",
       "      <th>4</th>\n",
       "      <td>CEyZU32P-vtMhgqRCaXzMA</td>\n",
       "      <td>Tue</td>\n",
       "      <td>17:00</td>\n",
       "      <td>1</td>\n",
       "    </tr>\n",
       "  </tbody>\n",
       "</table>\n",
       "</div>"
      ],
      "text/plain": [
       "              business_id weekday   hour  checkins\n",
       "0  3Mc-LxcqeguOXOVT_2ZtCg     Tue   0:00        12\n",
       "1  SVFx6_epO22bZTZnKwlX7g     Wed   0:00         4\n",
       "2  vW9aLivd4-IorAfStzsHww     Tue  14:00         1\n",
       "3  tEzxhauTQddACyqdJ0OPEQ     Fri  19:00         1\n",
       "4  CEyZU32P-vtMhgqRCaXzMA     Tue  17:00         1"
      ]
     },
     "execution_count": 5,
     "metadata": {},
     "output_type": "execute_result"
    }
   ],
   "source": [
    "check_in_giant.info()\n",
    "check_in_giant.head()"
   ]
  },
  {
   "cell_type": "markdown",
   "id": "8cd93f93-049a-41a6-b864-e49e66ba9ee3",
   "metadata": {},
   "source": [
    "# Data Cleaning/ Data Wrangling\n",
    "Clean and combine data sets based on business id filtered for category and year"
   ]
  },
  {
   "cell_type": "markdown",
   "id": "0b3ad081-1233-4466-9ef2-72ee24dfd198",
   "metadata": {},
   "source": [
    "## Review \n",
    "    1. Change the data type from object to date format\n",
    "    2. Only check after year 2016"
   ]
  },
  {
   "cell_type": "code",
   "execution_count": 6,
   "id": "2cbf2376-9be7-4925-8a24-f0e7e04332b6",
   "metadata": {},
   "outputs": [
    {
     "data": {
      "text/plain": [
       "Timestamp('2016-05-28 00:00:00')"
      ]
     },
     "execution_count": 6,
     "metadata": {},
     "output_type": "execute_result"
    }
   ],
   "source": [
    "# Review\n",
    "review_giant['date'] = pd.to_datetime(review_giant['date'])\n",
    "review_giant['date'][0]"
   ]
  },
  {
   "cell_type": "code",
   "execution_count": 7,
   "id": "2fa49617-5eac-4c43-b071-36a091d3b68c",
   "metadata": {},
   "outputs": [
    {
     "data": {
      "text/plain": [
       "2017    1128518\n",
       "2016    1052916\n",
       "2015     911487\n",
       "2014     678351\n",
       "2013     472595\n",
       "2012     350381\n",
       "2011     290933\n",
       "2010     187073\n",
       "2009      98288\n",
       "2008      61553\n",
       "2007      23020\n",
       "2006       5669\n",
       "2005        870\n",
       "2004         14\n",
       "Name: date, dtype: int64"
      ]
     },
     "execution_count": 7,
     "metadata": {},
     "output_type": "execute_result"
    }
   ],
   "source": [
    "# check how many reviews in each year\n",
    "pd.DatetimeIndex(review_giant['date']).year.value_counts()"
   ]
  },
  {
   "cell_type": "code",
   "execution_count": null,
   "id": "886d20ca-c0c3-4f0c-8286-b79885c11d91",
   "metadata": {},
   "outputs": [],
   "source": [
    "# select only review after 2016\n",
    "review_years = review_giant[review_giant['date'] >= '2017']\n",
    "pd.DatetimeIndex(review_years['date']).year.value_counts()"
   ]
  },
  {
   "cell_type": "code",
   "execution_count": null,
   "id": "d51635bc-213a-4617-bb67-94ebbe7ed608",
   "metadata": {},
   "outputs": [],
   "source": [
    "# feature selection \n",
    "review_years_features = review_years[['review_id','user_id','business_id','stars','date','text']]\n",
    "review_years_features.head()"
   ]
  },
  {
   "cell_type": "code",
   "execution_count": null,
   "id": "450d2516-eb60-4195-8777-d3d9dd04a433",
   "metadata": {},
   "outputs": [],
   "source": [
    "# check for null \n",
    "review_years_features.isnull().sum()"
   ]
  },
  {
   "cell_type": "markdown",
   "id": "354616d8-1663-4834-9a60-b8789ff1a98d",
   "metadata": {},
   "source": [
    "### Review comments cleaning\n",
    "    1. Tokenize the review comments at word level\n",
    "    2. Change all upper case to lower case\n",
    "    3. Remove regular English stopwords based on NTLK\n",
    "    4. Remove punctuations and other symbols/words less than 2 characters\n",
    "    5. Untokenize the words and return a clean text column in the dataframe\n",
    "    "
   ]
  },
  {
   "cell_type": "code",
   "execution_count": null,
   "id": "ea1c824c-2641-4285-987c-4e69626e5a01",
   "metadata": {},
   "outputs": [],
   "source": [
    "import nltk\n",
    "import string\n",
    "from sklearn.feature_extraction.text import ENGLISH_STOP_WORDS\n",
    "from nltk.tokenize import word_tokenize\n",
    "from nltk.stem import PorterStemmer\n",
    "import re"
   ]
  },
  {
   "cell_type": "code",
   "execution_count": null,
   "id": "8b40b533-0480-4674-b57a-6558231019ef",
   "metadata": {},
   "outputs": [],
   "source": [
    "# define function to remove stop words\n",
    "def remove_stopwords(list_of_token):\n",
    "    '''\n",
    "    Remove English stop words\n",
    "    '''\n",
    "    \n",
    "    cleaned_tokens = []\n",
    "    for token in list_of_token:\n",
    "        if token in ENGLISH_STOP_WORDS: continue\n",
    "        cleaned_tokens.append(token)\n",
    "        \n",
    "    return cleaned_tokens"
   ]
  },
  {
   "cell_type": "code",
   "execution_count": null,
   "id": "72f93abf-353e-41bb-8526-8d5acd63fb1d",
   "metadata": {},
   "outputs": [],
   "source": [
    "# define function to remove punctutations, remove extra ''\n",
    "def remove_punctuations(list_of_tokens):\n",
    "    \n",
    "    cleaned_tokens =[]\n",
    "    for word in list_of_tokens:\n",
    "        \n",
    "        for punctuation in string.punctuation:\n",
    "            word = word.replace(punctuation,'')\n",
    "            \n",
    "            #remove character less than 2\n",
    "            word = re.sub(r'\\b\\w{1,2}\\b', '', word)\n",
    "            \n",
    "            \n",
    "        cleaned_tokens.append(word)\n",
    "        \n",
    "        #remove extra '' in the list\n",
    "        while('' in cleaned_tokens):\n",
    "            cleaned_tokens.remove('')\n",
    "        \n",
    "    return cleaned_tokens\n"
   ]
  },
  {
   "cell_type": "code",
   "execution_count": null,
   "id": "510bea58-e717-4124-8ed0-252474d3788c",
   "metadata": {},
   "outputs": [],
   "source": [
    "# define a function to untokenize the tokens\n",
    "def the_untokenizer(token_list):\n",
    "    \n",
    "    return \" \".join(token_list)"
   ]
  },
  {
   "cell_type": "code",
   "execution_count": null,
   "id": "9337d257-4274-4a47-aec4-d179eab548b4",
   "metadata": {},
   "outputs": [],
   "source": [
    "#define a function that combines the functions needed to clean out texts\n",
    "def cleaning_out_texts(text):\n",
    "    \n",
    "    cleaned_text = [] \n",
    "    tokenizer_list = word_tokenize(text)\n",
    "    \n",
    "    lower_word = []\n",
    "    for word in tokenizer_list:\n",
    "        word = word.lower()\n",
    "        lower_word.append(word)\n",
    "        \n",
    "    remove_stopwords_list = remove_stopwords(lower_word)\n",
    "    remove_punctuation_list = remove_punctuations(remove_stopwords_list)\n",
    "    back_to_string = the_untokenizer(remove_punctuation_list)\n",
    "    \n",
    "    cleaned_text.append(back_to_string)\n",
    "    \n",
    "    return cleaned_text"
   ]
  },
  {
   "cell_type": "code",
   "execution_count": null,
   "id": "e6089012-99c0-47e0-96bf-42da879d969a",
   "metadata": {},
   "outputs": [],
   "source": [
    "def unlist(list):\n",
    "    return str(list).strip(\"[],''\")"
   ]
  },
  {
   "cell_type": "code",
   "execution_count": null,
   "id": "4dd3eee3-7397-477b-8777-9378bab7651f",
   "metadata": {},
   "outputs": [],
   "source": [
    "# review_years_features['cleaned_text'] = review_years_features['text'].apply(cleaning_out_texts)\n",
    "# review_years_features.head()"
   ]
  },
  {
   "cell_type": "markdown",
   "id": "b8d6c32e-b001-471b-86f7-84f686c51370",
   "metadata": {},
   "source": [
    "## Business \n",
    "    1. Only interested in resturants\n",
    "    2. Only North America or Canada? "
   ]
  },
  {
   "cell_type": "code",
   "execution_count": null,
   "id": "53c21560-5cf3-4315-a028-4f62bd09a243",
   "metadata": {},
   "outputs": [],
   "source": [
    "# Cleaning business table\n",
    "\n",
    "#Categories with word 'Restaurants' or 'Food'\n",
    "business_filter = business_giant[business_giant['categories'].str.contains(\"Food\")| business_giant['categories'].str.contains('Restaurants')]\n",
    "\n",
    "#Only look at Ontario \n",
    "business_filter_state = business_filter[business_filter['state']== 'ON']\n",
    "business_filter_state.nunique()"
   ]
  },
  {
   "cell_type": "code",
   "execution_count": null,
   "id": "56f9f422-daac-43d8-b4ad-81e6ab7ce8c7",
   "metadata": {},
   "outputs": [],
   "source": [
    "# merge table \n",
    "print(business_filter_state.shape)\n",
    "print(review_years_features.shape)"
   ]
  },
  {
   "cell_type": "code",
   "execution_count": null,
   "id": "939e6506-5f93-4d95-a82f-2e9f746f7c61",
   "metadata": {},
   "outputs": [],
   "source": [
    "#create master table filtered on business id \n",
    "master_df = pd.DataFrame()\n",
    "master_df = pd.merge(left= business_filter_state, right= review_years_features, on='business_id')\n",
    "master_df"
   ]
  },
  {
   "cell_type": "code",
   "execution_count": null,
   "id": "b8496725-5510-4c73-ad19-063ec6558771",
   "metadata": {},
   "outputs": [],
   "source": [
    "master_df['cleaned_text'] = master_df['text'].apply(cleaning_out_texts)\n",
    "master_df['cleaned_text'] = master_df['cleaned_text'].apply(unlist)\n",
    "master_df.head()"
   ]
  },
  {
   "cell_type": "markdown",
   "id": "4b00dd2b-3684-40e7-bf1e-d660ad5b140c",
   "metadata": {},
   "source": [
    "## Check-in \n",
    "    1. Aggregrate check in on business id\n",
    "   "
   ]
  },
  {
   "cell_type": "code",
   "execution_count": null,
   "id": "c35f7ba4-8886-47b0-930e-b8c154911ccc",
   "metadata": {},
   "outputs": [],
   "source": [
    "# Clean check-in table\n",
    "checkin_df = check_in_giant.groupby(['business_id','weekday'])['checkins'].sum().reset_index(name='checkins')\n",
    "checkin_days_df = checkin_df.pivot_table(values='checkins', index = ['business_id'], columns=['weekday'], aggfunc='first', dropna=True).fillna(0).reset_index()\n",
    "checkin_days_df"
   ]
  },
  {
   "cell_type": "code",
   "execution_count": null,
   "id": "4317bd7b-e98b-4ca2-b707-f7beec06fbfc",
   "metadata": {},
   "outputs": [],
   "source": [
    "# combine with master_df\n",
    "master_df = master_df.merge(right=checkin_days_df, on ='business_id', how='left')"
   ]
  },
  {
   "cell_type": "code",
   "execution_count": null,
   "id": "337e6c51-bacb-47bb-9bee-d6303a398493",
   "metadata": {},
   "outputs": [],
   "source": [
    "# drop null values for weekdays \n",
    "master_df.isnull().sum\n",
    "master_df = master_df.dropna(subset=['Fri','Sat' ,'Sun','Thu','Mon','Tue','Wed'])"
   ]
  },
  {
   "cell_type": "code",
   "execution_count": null,
   "id": "f9b76e7b-5a53-46be-9963-59790e642298",
   "metadata": {},
   "outputs": [],
   "source": [
    "master_df.isnull().sum()"
   ]
  },
  {
   "cell_type": "markdown",
   "id": "7e73d7ea-3d22-4bf1-ae07-a71aa2e3c652",
   "metadata": {},
   "source": [
    "# EDA"
   ]
  },
  {
   "cell_type": "code",
   "execution_count": null,
   "id": "a53f30b8-34a9-4c38-b0dc-fa31c07d8421",
   "metadata": {},
   "outputs": [],
   "source": []
  },
  {
   "cell_type": "code",
   "execution_count": null,
   "id": "f2df296d-b9bc-46a9-a100-565c6eb19274",
   "metadata": {},
   "outputs": [],
   "source": []
  },
  {
   "cell_type": "markdown",
   "id": "40a3426e-c4c1-47a9-81f0-ea644b99bb81",
   "metadata": {},
   "source": [
    "# Modelling"
   ]
  },
  {
   "cell_type": "code",
   "execution_count": null,
   "id": "d6e1261f-eca1-464e-b1cc-3e31c12e3425",
   "metadata": {},
   "outputs": [],
   "source": []
  },
  {
   "cell_type": "code",
   "execution_count": null,
   "id": "75a53a7e-c295-47d3-a75c-f115a2767807",
   "metadata": {},
   "outputs": [],
   "source": []
  },
  {
   "cell_type": "markdown",
   "id": "ace6d1bf-084c-44b7-a9d3-ee5f6f771ba6",
   "metadata": {},
   "source": [
    "# Conclusion"
   ]
  },
  {
   "cell_type": "code",
   "execution_count": null,
   "id": "7efa88c9-6aa1-4676-aec9-e4fda4983550",
   "metadata": {},
   "outputs": [],
   "source": []
  },
  {
   "cell_type": "code",
   "execution_count": null,
   "id": "f5d3a269-231f-40b2-a565-bf988a412f38",
   "metadata": {},
   "outputs": [],
   "source": []
  }
 ],
 "metadata": {
  "kernelspec": {
   "display_name": "Python 3 (ipykernel)",
   "language": "python",
   "name": "python3"
  },
  "language_info": {
   "codemirror_mode": {
    "name": "ipython",
    "version": 3
   },
   "file_extension": ".py",
   "mimetype": "text/x-python",
   "name": "python",
   "nbconvert_exporter": "python",
   "pygments_lexer": "ipython3",
   "version": "3.9.7"
  }
 },
 "nbformat": 4,
 "nbformat_minor": 5
}
